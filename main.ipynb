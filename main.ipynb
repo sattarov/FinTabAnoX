{
 "cells": [
  {
   "cell_type": "code",
   "execution_count": 1,
   "metadata": {},
   "outputs": [],
   "source": [
    "import pandas as pd\n",
    "import numpy as np\n",
    "import matplotlib.pyplot as plt\n",
    "import seaborn as sns\n",
    "import os\n",
    "import string\n",
    "from ucimlrepo import fetch_ucirepo \n",
    "from sklearn.model_selection import train_test_split\n",
    "from sklearn.preprocessing import OneHotEncoder\n",
    "from sklearn.preprocessing import StandardScaler \n",
    "from sklearn.metrics import average_precision_score\n",
    "from scipy.stats import expon\n",
    "from tqdm import tqdm\n",
    "\n",
    "import torch\n",
    "from torch.utils.data import DataLoader\n",
    "import torch.optim as optim\n",
    "from torch.optim.lr_scheduler import CosineAnnealingLR\n",
    "from torch import nn\n",
    "import torch.nn.functional as F\n",
    "\n",
    "from autoencoder import AutoEncoder\n",
    "from fin_anomaly_modules import add_noise\n",
    "\n",
    "%load_ext autoreload\n",
    "%autoreload 2"
   ]
  },
  {
   "cell_type": "markdown",
   "metadata": {},
   "source": [
    "### Define the experimental parameters and set seed"
   ]
  },
  {
   "cell_type": "code",
   "execution_count": 2,
   "metadata": {},
   "outputs": [],
   "source": [
    "# define global experiment parameters\n",
    "exp_params = dict(\n",
    "\n",
    "    seed = 111, # random seed\n",
    "    batch_size = 512, # batch size   \n",
    "\n",
    "    encoder_layers = [512, 256], # encoder layers\n",
    "    decoder_layers = [256, 512], # decoder layers\n",
    "    learning_rate = 1e-4, # learning rate\n",
    "    activation = 'lrelu', # activation function\n",
    "    epochs = 500, # number of epochs\n",
    "\n",
    "    # set device, either 'cuda' or 'cpu'\n",
    "    device = torch.device(\"cuda\" if torch.cuda.is_available() else \"cpu\")  \n",
    ")\n",
    "    \n",
    "# set seed\n",
    "rng = np.random.default_rng(exp_params['seed']) # set numpy seed\n",
    "torch.manual_seed(exp_params['seed'])  # set pytorch seed CPU\n",
    "torch.cuda.manual_seed(exp_params['seed'])  # set pytorch seed GPU"
   ]
  },
  {
   "cell_type": "markdown",
   "metadata": {},
   "source": [
    "### Download Credit Default Dataset"
   ]
  },
  {
   "cell_type": "code",
   "execution_count": 3,
   "metadata": {},
   "outputs": [],
   "source": [
    "# fetch Credit Default dataset \n",
    "default_of_credit_card_clients = fetch_ucirepo(id=350) \n",
    "  \n",
    "# data (as pandas dataframes) \n",
    "X = default_of_credit_card_clients.data.features \n",
    "y = default_of_credit_card_clients.data.targets \n",
    "  \n",
    "# variable information \n",
    "vars = default_of_credit_card_clients.variables\n",
    "vars_map = dict(zip(vars['name'], vars['description']))\n"
   ]
  },
  {
   "cell_type": "markdown",
   "metadata": {},
   "source": [
    "### Define the categorical and numeric attributes"
   ]
  },
  {
   "cell_type": "code",
   "execution_count": 4,
   "metadata": {},
   "outputs": [
    {
     "name": "stderr",
     "output_type": "stream",
     "text": [
      "/var/folders/hr/9sd04tdn71vf50y_zyl5j5g40000gn/T/ipykernel_62209/2037472979.py:2: SettingWithCopyWarning: \n",
      "A value is trying to be set on a copy of a slice from a DataFrame\n",
      "\n",
      "See the caveats in the documentation: https://pandas.pydata.org/pandas-docs/stable/user_guide/indexing.html#returning-a-view-versus-a-copy\n",
      "  X.rename(columns=vars_map, inplace=True)\n",
      "/var/folders/hr/9sd04tdn71vf50y_zyl5j5g40000gn/T/ipykernel_62209/2037472979.py:11: SettingWithCopyWarning: \n",
      "A value is trying to be set on a copy of a slice from a DataFrame.\n",
      "Try using .loc[row_indexer,col_indexer] = value instead\n",
      "\n",
      "See the caveats in the documentation: https://pandas.pydata.org/pandas-docs/stable/user_guide/indexing.html#returning-a-view-versus-a-copy\n",
      "  X[categorical_attributes] = X[categorical_attributes].astype(str)\n",
      "/var/folders/hr/9sd04tdn71vf50y_zyl5j5g40000gn/T/ipykernel_62209/2037472979.py:12: SettingWithCopyWarning: \n",
      "A value is trying to be set on a copy of a slice from a DataFrame.\n",
      "Try using .loc[row_indexer,col_indexer] = value instead\n",
      "\n",
      "See the caveats in the documentation: https://pandas.pydata.org/pandas-docs/stable/user_guide/indexing.html#returning-a-view-versus-a-copy\n",
      "  X[numerical_attributes] = X[numerical_attributes].astype(float)\n"
     ]
    }
   ],
   "source": [
    "# rename columns\n",
    "X.rename(columns=vars_map, inplace=True)\n",
    "\n",
    "# set numerical and categorical attributes\n",
    "numerical_attributes = ['BILL_AMT1', 'BILL_AMT2', 'BILL_AMT3', 'BILL_AMT4', 'BILL_AMT5', 'BILL_AMT6',\n",
    "                        'PAY_AMT1', 'PAY_AMT2', 'PAY_AMT3', 'PAY_AMT4', 'PAY_AMT5', 'PAY_AMT6', 'LIMIT_BAL']\n",
    "numerical_attributes_scaled = [num_attr + '_SCALED' for num_attr in numerical_attributes]\n",
    "categorical_attributes = ['SEX', 'EDUCATION', 'MARRIAGE', 'AGE', 'PAY_0', 'PAY_2', 'PAY_3', 'PAY_4', 'PAY_5', 'PAY_6']\n",
    "\n",
    "# set string type for categorical attributes\n",
    "X[categorical_attributes] = X[categorical_attributes].astype(str)\n",
    "X[numerical_attributes] = X[numerical_attributes].astype(float)"
   ]
  },
  {
   "cell_type": "markdown",
   "metadata": {},
   "source": [
    "### Data Transformation: \n",
    "- categorical using one-hot\n",
    "- numeric uning standard scaler"
   ]
  },
  {
   "cell_type": "code",
   "execution_count": 5,
   "metadata": {},
   "outputs": [
    {
     "name": "stdout",
     "output_type": "stream",
     "text": [
      "Train data shape: (30000, 146)\n"
     ]
    }
   ],
   "source": [
    "# one-hot encode categorical attributes\n",
    "cat_encoder = OneHotEncoder(sparse_output=False)\n",
    "# fit categorical attributes of clean data\n",
    "cat_encoder.fit(X[categorical_attributes])\n",
    "# transform categorical attributes of clean train and test data\n",
    "X_train_cat = cat_encoder.transform(X[categorical_attributes])\n",
    "\n",
    "# scale numerical attributes\n",
    "num_scaler = StandardScaler()\n",
    "# fit numerical attributes of clean train data\n",
    "num_scaler.fit(X[numerical_attributes])\n",
    "# transform numerical attributes of clean train and test data\n",
    "X_train_num = num_scaler.transform(X[numerical_attributes])\n",
    "\n",
    "# combine numerical and categorical attributes\n",
    "X_train_encoded = np.concatenate([X_train_cat, X_train_num], axis=1)\n",
    "print(f\"Train data shape: {X_train_encoded.shape}\")"
   ]
  },
  {
   "cell_type": "markdown",
   "metadata": {},
   "source": [
    "### Build metadata for categorical attributes"
   ]
  },
  {
   "cell_type": "code",
   "execution_count": 6,
   "metadata": {},
   "outputs": [],
   "source": [
    "# collect positions of transformed numerical attributes\n",
    "num_attr_positions = list(range(X_train_cat.shape[1], X_train_encoded.shape[1]))\n",
    "num_attr_positions = dict(zip(numerical_attributes, num_attr_positions))\n",
    "\n",
    "# collect positions of transformed categorical attributes\n",
    "cat_attr_positions = dict()\n",
    "one_hot_cols = cat_encoder.get_feature_names_out()\n",
    "for _, cat_attr in enumerate(categorical_attributes):\n",
    "    # get index of categorical attributes\n",
    "    idx = [i for i, s in enumerate(one_hot_cols) if s.startswith(cat_attr)]\n",
    "    # store index of categorical attributes\n",
    "    cat_attr_positions[cat_attr] = idx\n",
    "\n",
    "cat_metadata = dict(\n",
    "    encoder = cat_encoder,\n",
    "    attributes = categorical_attributes,\n",
    "    idx_position = cat_attr_positions\n",
    ")\n",
    "\n",
    "# collect positions of transformed numerical attributes\n",
    "num_metadata = dict(\n",
    "    scaler = num_scaler,\n",
    "    attributes = numerical_attributes,\n",
    "    idx_position = num_attr_positions\n",
    ")"
   ]
  },
  {
   "cell_type": "markdown",
   "metadata": {},
   "source": [
    "### Initialize training settings, define loss functions, optimizer and Dataloader"
   ]
  },
  {
   "cell_type": "code",
   "execution_count": 7,
   "metadata": {},
   "outputs": [
    {
     "name": "stderr",
     "output_type": "stream",
     "text": [
      "/Users/timur/Documents/Projects/21_DFKI_BuBa_Explainable_AE/graphem/team/Timur/Explainable_Autoencoder/06_github_code/venv/lib/python3.11/site-packages/torch/optim/lr_scheduler.py:28: UserWarning: The verbose parameter is deprecated. Please use get_last_lr() to access the learning rate.\n",
      "  warnings.warn(\"The verbose parameter is deprecated. Please use get_last_lr() \"\n"
     ]
    }
   ],
   "source": [
    "# convert to tensor\n",
    "X_train_torch = torch.Tensor(X_train_encoded)\n",
    "\n",
    "# set input dimension\n",
    "input_dim = X_train_torch.shape[1]\n",
    "\n",
    "### initialize model\n",
    "\n",
    "dataloader = DataLoader(dataset=X_train_torch, batch_size=exp_params['batch_size'], shuffle=True)\n",
    "\n",
    "# build autoencoder model\n",
    "model = AutoEncoder([input_dim, *exp_params['encoder_layers']], [*exp_params['decoder_layers'], input_dim]).to(exp_params['device'])\n",
    "\n",
    "\n",
    "# init encoder optimizer\n",
    "optimizer = optim.Adam(model.parameters(), lr=exp_params['learning_rate'])\n",
    "scheduler = CosineAnnealingLR(optimizer, T_max=exp_params['epochs'], verbose=True)\n",
    "\n",
    "# init autoencoder losses\n",
    "reconstruction_BCE = nn.CrossEntropyLoss(reduction='none').to(exp_params['device'])\n",
    "reconstruction_MSE = nn.MSELoss(reduction='none').to(exp_params['device'])"
   ]
  },
  {
   "cell_type": "markdown",
   "metadata": {},
   "source": [
    "# Start training"
   ]
  },
  {
   "cell_type": "code",
   "execution_count": 8,
   "metadata": {},
   "outputs": [
    {
     "name": "stderr",
     "output_type": "stream",
     "text": [
      "Autoencoder Reconstruction Loss TRAIN SET: (BCE): 0.2413 (MSE): 0.1764 TOTAL: 0.4177: 100%|██████████| 500/500 [06:27<00:00,  1.29it/s]\n"
     ]
    }
   ],
   "source": [
    "device = exp_params['device']\n",
    "################## start training ########################\n",
    "\n",
    "rec_errors_epoch_bce = []\n",
    "rec_errors_epoch_mse = []\n",
    "rec_errors_epoch_total = []\n",
    "\n",
    "# iterate over distinct training epochs\n",
    "pbar = tqdm(iterable=range(exp_params['epochs']))\n",
    "for i in pbar:\n",
    "    # init rec errors\n",
    "    rec_errors_batch_bce = []\n",
    "    rec_errors_batch_mse = []\n",
    "    rec_errors_batch_total = []\n",
    "\n",
    "    # iterate over distinct minibatches\n",
    "    for batch_id, batch_clean in enumerate(dataloader):\n",
    "\n",
    "        # add noise to batch\n",
    "        batch_noise = add_noise(\n",
    "            clean_data=batch_clean, \n",
    "            cat_features=categorical_attributes,\n",
    "            num_features=numerical_attributes, \n",
    "            cat_attr_positions=cat_metadata['idx_position'],\n",
    "            num_attr_positions=num_metadata['idx_position'],\n",
    "            pct_outliers=0.03, \n",
    "            rng=rng,\n",
    "            num_noise_max_fraction=0.5, \n",
    "            cat_noise_max_fraction=0.5\n",
    "        )\n",
    "\n",
    "        # set network in training mode\n",
    "        model.train()\n",
    "        model.to(device)\n",
    "\n",
    "        # move to device\n",
    "        batch_noise = batch_noise.to(device)\n",
    "        batch_clean = batch_clean.to(device)\n",
    "\n",
    "        # reset encoder and decoder gradients\n",
    "        optimizer.zero_grad()\n",
    "\n",
    "        # conduct forward encoder/decoder pass\n",
    "        rec_batch, z_batch = model(batch_noise)\n",
    "\n",
    "        # init rec loss\n",
    "        rec_error_batch_bce = torch.zeros(batch_noise.shape[0]).to(device)\n",
    "        rec_error_batch_mse = torch.zeros(batch_noise.shape[0]).to(device)\n",
    "\n",
    "        for cat_attr in categorical_attributes:\n",
    "            # get attribute of reconstruction and input batch\n",
    "            rec_batch_cat_attr = rec_batch[:, cat_attr_positions[cat_attr]]\n",
    "            batch_clean_cat_attr = batch_clean[:, cat_attr_positions[cat_attr]]\n",
    "            batch_noise_cat_attr = batch_noise[:, cat_attr_positions[cat_attr]]\n",
    "            # compute reconstruction error of categorical attributes\n",
    "            rec_error_batch_bce_single_attr = reconstruction_BCE(input=rec_batch_cat_attr,\n",
    "                                                                 target=batch_clean_cat_attr.argmax(axis=1))\n",
    "            # add categorical losses\n",
    "            rec_error_batch_bce += rec_error_batch_bce_single_attr\n",
    "\n",
    "        for num_attr in numerical_attributes:\n",
    "            # get attribute of reconstruction and input batch\n",
    "            rec_batch_num_attr = rec_batch[:, num_attr_positions[num_attr]]\n",
    "            batch_clean_num_attr = batch_clean[:, num_attr_positions[num_attr]]\n",
    "            batch_noise_num_attr = batch_noise[:, num_attr_positions[num_attr]]\n",
    "            # compute reconstruction error of numeric attributes\n",
    "            rec_error_batch_mse_single_attr = reconstruction_MSE(input=rec_batch_num_attr,\n",
    "                                                    target=batch_clean_num_attr)\n",
    "\n",
    "            rec_error_batch_mse += rec_error_batch_mse_single_attr\n",
    "\n",
    "        # compute total reconstruction error\n",
    "        rec_error_batch = rec_error_batch_bce + rec_error_batch_mse\n",
    "        rec_error_batch_mean = rec_error_batch.mean()\n",
    "        rec_error_batch_bce_mean = rec_error_batch_bce.mean()\n",
    "        rec_error_batch_mse_mean = rec_error_batch_mse.mean()\n",
    "\n",
    "        # run error back-propagation\n",
    "        rec_error_batch_mean.backward()\n",
    "\n",
    "        # optimize encoder and decoder parameters\n",
    "        optimizer.step()\n",
    "\n",
    "        # collect rec errors of a single batch\n",
    "        rec_errors_batch_bce.append(rec_error_batch_bce_mean.item())\n",
    "        rec_errors_batch_mse.append(rec_error_batch_mse_mean.item())\n",
    "        rec_errors_batch_total.append(rec_error_batch_mean.item())\n",
    "\n",
    "    # average rec errors of multiple batches\n",
    "    rec_errors_bce_mean = np.mean(rec_errors_batch_bce)\n",
    "    rec_errors_mse_mean = np.mean(rec_errors_batch_mse)\n",
    "    rec_errors_mean = np.mean(rec_errors_batch_total)\n",
    "\n",
    "    # collect rec errors of epoch\n",
    "    rec_errors_epoch_bce.append(rec_errors_bce_mean)\n",
    "    rec_errors_epoch_mse.append(rec_errors_mse_mean)\n",
    "    rec_errors_epoch_total.append(rec_errors_mean)\n",
    "\n",
    "    # update learning rate according to the scheduler\n",
    "    scheduler.step()\n",
    " \n",
    "    # update progress bar\n",
    "    pbar.set_description(f\"Autoencoder Reconstruction Loss TRAIN SET: (BCE): {rec_errors_bce_mean:.4f} (MSE): {rec_errors_mse_mean:.4f} TOTAL: {rec_errors_mean:.4f}\")\n"
   ]
  },
  {
   "cell_type": "markdown",
   "metadata": {},
   "source": [
    "### Plot reconstruction error loss, separately for categorical, numeric and total"
   ]
  },
  {
   "cell_type": "code",
   "execution_count": 9,
   "metadata": {},
   "outputs": [
    {
     "data": {
      "image/png": "[encoded data removed]",
      "text/plain": [
       "<Figure size 640x480 with 1 Axes>"
      ]
     },
     "metadata": {},
     "output_type": "display_data"
    }
   ],
   "source": [
    "sns.set_theme()\n",
    "rec_errors_df = pd.concat([pd.Series(rec_errors_epoch_total), pd.Series(rec_errors_epoch_bce), pd.Series(rec_errors_epoch_mse)], axis=1)\n",
    "rec_errors_df.columns = ['Total', 'Categorical', 'Numeric']\n",
    "sns.lineplot(data=rec_errors_df);\n",
    "plt.title('Reconstruction Loss')\n",
    "plt.xlabel('Epoch')\n",
    "plt.ylabel('Loss')\n",
    "plt.show()"
   ]
  },
  {
   "cell_type": "markdown",
   "metadata": {},
   "source": [
    "# Evaluation"
   ]
  },
  {
   "cell_type": "code",
   "execution_count": 10,
   "metadata": {},
   "outputs": [],
   "source": [
    "# perform evaluation of the model on the test set\n",
    "model.eval()\n",
    "\n",
    "# forward pass of test set\n",
    "rec_train, z_test = model(X_train_torch.to(device))\n",
    "\n",
    "# move to cpu\n",
    "# rec_test = rec_test.detach().cpu().numpy()\n",
    "\n",
    "# emtpy dataframe to store rec errors\n",
    "rec_error_train_df = pd.DataFrame()\n"
   ]
  },
  {
   "cell_type": "markdown",
   "metadata": {},
   "source": [
    "### Compute reconstuction losses for categorical and numeric attributes"
   ]
  },
  {
   "cell_type": "code",
   "execution_count": 11,
   "metadata": {},
   "outputs": [
    {
     "name": "stdout",
     "output_type": "stream",
     "text": [
      "Autoencoder Reconstruction Loss TEST SET: (BCE): 0.2413 (MSE): 0.1764 TOTAL: 0.4177\n"
     ]
    }
   ],
   "source": [
    "\n",
    "# compute rec loss of cat & num attributes\n",
    "for cat_attr in categorical_attributes:\n",
    "    # get attribute of reconstruction and input batch\n",
    "    rec_train_cat_attr = rec_train[:, cat_attr_positions[cat_attr]]\n",
    "    train_cat_attr = X_train_torch[:, cat_attr_positions[cat_attr]]\n",
    "    # compute reconstruction error of categorical attributes\n",
    "    rec_error_train_bce_single_attr = reconstruction_BCE(input=rec_train_cat_attr,\n",
    "                                                            target=train_cat_attr.argmax(axis=1))\n",
    "    \n",
    "    # add rec errors to dataframe\n",
    "    rec_error_train_df[cat_attr] = rec_error_train_bce_single_attr.detach().cpu().numpy()\n",
    "\n",
    "for num_attr in numerical_attributes:\n",
    "    # get attribute of reconstruction and input batch\n",
    "    rec_train_num_attr = rec_train[:, num_attr_positions[num_attr]]\n",
    "    train_num_attr = X_train_torch[:, num_attr_positions[num_attr]]\n",
    "\n",
    "    # compute reconstruction error of numeric attributes\n",
    "    rec_error_train_mse_single_attr = reconstruction_MSE(input=rec_train_num_attr,\n",
    "                                        target=train_num_attr)\n",
    "\n",
    "    # add rec errors to dataframe\n",
    "    rec_error_train_df[num_attr] = rec_error_train_mse_single_attr.detach().cpu().numpy()\n",
    "\n",
    "# compute rec loss of cat & num attributes\n",
    "rec_loss_train_cat = rec_error_train_df[categorical_attributes].sum(axis=1) \n",
    "rec_loss_train_num = rec_error_train_df[numerical_attributes].sum(axis=1)\n",
    "\n",
    "# total loss\n",
    "total_loss_train = rec_loss_train_cat + rec_loss_train_num\n",
    "\n",
    "print(f\"Autoencoder Reconstruction Loss TEST SET: (BCE): {rec_errors_bce_mean:.4f} (MSE): {rec_errors_mse_mean:.4f} TOTAL: {rec_errors_mean:.4f}\")"
   ]
  },
  {
   "cell_type": "markdown",
   "metadata": {},
   "source": [
    "### Compute softmax of categorical reconstructions"
   ]
  },
  {
   "cell_type": "code",
   "execution_count": 12,
   "metadata": {},
   "outputs": [],
   "source": [
    "# 1. compute softmax of categorical reconstructions\n",
    "rec_softmax_df = pd.DataFrame(index=rec_error_train_df.index, columns=one_hot_cols)\n",
    "\n",
    "for cat_attr in categorical_attributes:\n",
    "    # get index of cat attribute\n",
    "    cat_attr_idx = cat_attr_positions[cat_attr]    \n",
    "    # get attribute of categorcial reconstruction \n",
    "    rec_test_cat_attr = rec_train[:, cat_attr_idx]\n",
    "    # compute softmax of categorical reconstructions\n",
    "    rec_softmax = F.softmax(rec_test_cat_attr, dim=1)\n",
    "    # add softmax to dataframe\n",
    "    rec_softmax_df.iloc[:, cat_attr_idx] = rec_softmax.detach().cpu().numpy()"
   ]
  },
  {
   "cell_type": "markdown",
   "metadata": {},
   "source": [
    "### Compute expected values "
   ]
  },
  {
   "cell_type": "code",
   "execution_count": 13,
   "metadata": {},
   "outputs": [],
   "source": [
    "# 2. compute expected values \n",
    "expected_values_df = pd.DataFrame(index=rec_error_train_df.index)\n",
    "expected_values_tmp_df = pd.DataFrame(index=rec_error_train_df.index, columns=one_hot_cols)\n",
    "\n",
    "# Define a function to round softmax scores to [0,1] values\n",
    "def round_softmax_scores(row):\n",
    "    max_score = row.max()\n",
    "    return [1 if x == max_score else 0 for x in row]\n",
    "\n",
    "\n",
    "for cat_attr in categorical_attributes:\n",
    "    # get index of cat attribute\n",
    "    cat_attr_idx = cat_attr_positions[cat_attr]    \n",
    "\n",
    "    # get softmax of categorical reconstructions\n",
    "    rec_softmax_single_attr = rec_softmax_df.iloc[:, cat_attr_idx]\n",
    "\n",
    "    # Apply the function to each row of the DataFrame\n",
    "    rounded_scores = rec_softmax_single_attr.apply(round_softmax_scores, axis=1, result_type='expand')\n",
    "\n",
    "    # Add the rounded scores to the DataFrame\n",
    "    # rec_softmax_df.iloc[:, cat_attr_idx] = rounded_scores\n",
    "    expected_values_tmp_df.iloc[:, cat_attr_idx] = rounded_scores\n",
    "\n",
    "# add expected values of categorical attributes\n",
    "expected_values_df[categorical_attributes] = cat_encoder.inverse_transform(expected_values_tmp_df.values)\n",
    "\n",
    "# numerical attributes\n",
    "rec_num_attr = rec_train[:, list(num_attr_positions.values())]\n",
    "\n",
    "# add expected values of numerical attributes\n",
    "expected_values_df[numerical_attributes] = num_scaler.inverse_transform(rec_num_attr.detach().cpu().numpy()).round(0)"
   ]
  },
  {
   "cell_type": "markdown",
   "metadata": {},
   "source": [
    "### Compute probability of error"
   ]
  },
  {
   "cell_type": "code",
   "execution_count": 14,
   "metadata": {},
   "outputs": [],
   "source": [
    "# 3. compute probability of error\n",
    "prob_of_error = pd.DataFrame(index=rec_error_train_df.index)\n",
    "\n",
    "for cat_attr in categorical_attributes:\n",
    "    # the inverse of the cross-entropy loss\n",
    "    prob_of_error[cat_attr] = 1.0 - np.exp(-rec_error_train_df[cat_attr]).round(2)\n",
    "\n",
    "\n",
    "for num_attr in numerical_attributes:\n",
    "    # transform the mean squared error to the probability\n",
    "    prob_of_error[num_attr] = expon.cdf(rec_error_train_df[num_attr], scale=1).round(2)"
   ]
  },
  {
   "cell_type": "markdown",
   "metadata": {},
   "source": [
    "# Get top N anomalies"
   ]
  },
  {
   "cell_type": "code",
   "execution_count": 15,
   "metadata": {},
   "outputs": [],
   "source": [
    "# get the indices of the largest errors\n",
    "largest_errors_idx = total_loss_train.sort_values(ascending=False).index"
   ]
  },
  {
   "cell_type": "code",
   "execution_count": 16,
   "metadata": {},
   "outputs": [
    {
     "data": {
      "text/html": [
       "<div>\n",
       "<style scoped>\n",
       "    .dataframe tbody tr th:only-of-type {\n",
       "        vertical-align: middle;\n",
       "    }\n",
       "\n",
       "    .dataframe tbody tr th {\n",
       "        vertical-align: top;\n",
       "    }\n",
       "\n",
       "    .dataframe thead th {\n",
       "        text-align: right;\n",
       "    }\n",
       "</style>\n",
       "<table border=\"1\" class=\"dataframe\">\n",
       "  <thead>\n",
       "    <tr style=\"text-align: right;\">\n",
       "      <th></th>\n",
       "      <th>Original</th>\n",
       "      <th>Expected</th>\n",
       "      <th>Prob. of Error</th>\n",
       "    </tr>\n",
       "  </thead>\n",
       "  <tbody>\n",
       "    <tr>\n",
       "      <th>SEX</th>\n",
       "      <td>1</td>\n",
       "      <td>1</td>\n",
       "      <td>0.04</td>\n",
       "    </tr>\n",
       "    <tr>\n",
       "      <th>EDUCATION</th>\n",
       "      <td>1</td>\n",
       "      <td>1</td>\n",
       "      <td>0.00</td>\n",
       "    </tr>\n",
       "    <tr>\n",
       "      <th>MARRIAGE</th>\n",
       "      <td>2</td>\n",
       "      <td>2</td>\n",
       "      <td>0.00</td>\n",
       "    </tr>\n",
       "    <tr>\n",
       "      <th>AGE</th>\n",
       "      <td>33</td>\n",
       "      <td>33</td>\n",
       "      <td>0.05</td>\n",
       "    </tr>\n",
       "    <tr>\n",
       "      <th>PAY_0</th>\n",
       "      <td>0</td>\n",
       "      <td>0</td>\n",
       "      <td>0.00</td>\n",
       "    </tr>\n",
       "    <tr>\n",
       "      <th>PAY_2</th>\n",
       "      <td>0</td>\n",
       "      <td>0</td>\n",
       "      <td>0.00</td>\n",
       "    </tr>\n",
       "    <tr>\n",
       "      <th>PAY_3</th>\n",
       "      <td>0</td>\n",
       "      <td>0</td>\n",
       "      <td>0.00</td>\n",
       "    </tr>\n",
       "    <tr>\n",
       "      <th>PAY_4</th>\n",
       "      <td>0</td>\n",
       "      <td>0</td>\n",
       "      <td>0.00</td>\n",
       "    </tr>\n",
       "    <tr>\n",
       "      <th>PAY_5</th>\n",
       "      <td>0</td>\n",
       "      <td>0</td>\n",
       "      <td>0.00</td>\n",
       "    </tr>\n",
       "    <tr>\n",
       "      <th>PAY_6</th>\n",
       "      <td>0</td>\n",
       "      <td>0</td>\n",
       "      <td>0.00</td>\n",
       "    </tr>\n",
       "    <tr>\n",
       "      <th>BILL_AMT1</th>\n",
       "      <td>218668.0</td>\n",
       "      <td>209510.0</td>\n",
       "      <td>0.02</td>\n",
       "    </tr>\n",
       "    <tr>\n",
       "      <th>BILL_AMT2</th>\n",
       "      <td>221296.0</td>\n",
       "      <td>238632.0</td>\n",
       "      <td>0.06</td>\n",
       "    </tr>\n",
       "    <tr>\n",
       "      <th>BILL_AMT3</th>\n",
       "      <td>206895.0</td>\n",
       "      <td>203120.0</td>\n",
       "      <td>0.00</td>\n",
       "    </tr>\n",
       "    <tr>\n",
       "      <th>BILL_AMT4</th>\n",
       "      <td>628699.0</td>\n",
       "      <td>451764.0</td>\n",
       "      <td>1.00</td>\n",
       "    </tr>\n",
       "    <tr>\n",
       "      <th>BILL_AMT5</th>\n",
       "      <td>195969.0</td>\n",
       "      <td>201075.0</td>\n",
       "      <td>0.01</td>\n",
       "    </tr>\n",
       "    <tr>\n",
       "      <th>BILL_AMT6</th>\n",
       "      <td>179224.0</td>\n",
       "      <td>177255.0</td>\n",
       "      <td>0.00</td>\n",
       "    </tr>\n",
       "    <tr>\n",
       "      <th>PAY_AMT1</th>\n",
       "      <td>10000.0</td>\n",
       "      <td>12591.0</td>\n",
       "      <td>0.02</td>\n",
       "    </tr>\n",
       "    <tr>\n",
       "      <th>PAY_AMT2</th>\n",
       "      <td>7000.0</td>\n",
       "      <td>11755.0</td>\n",
       "      <td>0.04</td>\n",
       "    </tr>\n",
       "    <tr>\n",
       "      <th>PAY_AMT3</th>\n",
       "      <td>6000.0</td>\n",
       "      <td>7280.0</td>\n",
       "      <td>0.01</td>\n",
       "    </tr>\n",
       "    <tr>\n",
       "      <th>PAY_AMT4</th>\n",
       "      <td>188840.0</td>\n",
       "      <td>142563.0</td>\n",
       "      <td>1.00</td>\n",
       "    </tr>\n",
       "    <tr>\n",
       "      <th>PAY_AMT5</th>\n",
       "      <td>28000.0</td>\n",
       "      <td>22788.0</td>\n",
       "      <td>0.11</td>\n",
       "    </tr>\n",
       "    <tr>\n",
       "      <th>PAY_AMT6</th>\n",
       "      <td>4000.0</td>\n",
       "      <td>4645.0</td>\n",
       "      <td>0.00</td>\n",
       "    </tr>\n",
       "    <tr>\n",
       "      <th>LIMIT_BAL</th>\n",
       "      <td>360000.0</td>\n",
       "      <td>350112.0</td>\n",
       "      <td>0.01</td>\n",
       "    </tr>\n",
       "  </tbody>\n",
       "</table>\n",
       "</div>"
      ],
      "text/plain": [
       "           Original  Expected  Prob. of Error\n",
       "SEX               1         1            0.04\n",
       "EDUCATION         1         1            0.00\n",
       "MARRIAGE          2         2            0.00\n",
       "AGE              33        33            0.05\n",
       "PAY_0             0         0            0.00\n",
       "PAY_2             0         0            0.00\n",
       "PAY_3             0         0            0.00\n",
       "PAY_4             0         0            0.00\n",
       "PAY_5             0         0            0.00\n",
       "PAY_6             0         0            0.00\n",
       "BILL_AMT1  218668.0  209510.0            0.02\n",
       "BILL_AMT2  221296.0  238632.0            0.06\n",
       "BILL_AMT3  206895.0  203120.0            0.00\n",
       "BILL_AMT4  628699.0  451764.0            1.00\n",
       "BILL_AMT5  195969.0  201075.0            0.01\n",
       "BILL_AMT6  179224.0  177255.0            0.00\n",
       "PAY_AMT1    10000.0   12591.0            0.02\n",
       "PAY_AMT2     7000.0   11755.0            0.04\n",
       "PAY_AMT3     6000.0    7280.0            0.01\n",
       "PAY_AMT4   188840.0  142563.0            1.00\n",
       "PAY_AMT5    28000.0   22788.0            0.11\n",
       "PAY_AMT6     4000.0    4645.0            0.00\n",
       "LIMIT_BAL  360000.0  350112.0            0.01"
      ]
     },
     "execution_count": 16,
     "metadata": {},
     "output_type": "execute_result"
    }
   ],
   "source": [
    "N = 1\n",
    "# compbine original, expected and prob of error\n",
    "error_df = pd.concat([X[[*categorical_attributes, *numerical_attributes]].iloc[largest_errors_idx[N]], \n",
    "                      expected_values_df.iloc[largest_errors_idx[N]], \n",
    "                      prob_of_error.iloc[largest_errors_idx[N]]], axis=1)\n",
    "error_df.columns = ['Original', 'Expected', 'Prob. of Error']\n",
    "error_df"
   ]
  }
 ],
 "metadata": {
  "kernelspec": {
   "display_name": "venv",
   "language": "python",
   "name": "python3"
  },
  "language_info": {
   "codemirror_mode": {
    "name": "ipython",
    "version": 3
   },
   "file_extension": ".py",
   "mimetype": "text/x-python",
   "name": "python",
   "nbconvert_exporter": "python",
   "pygments_lexer": "ipython3",
   "version": "3.11.6"
  },
  "orig_nbformat": 4
 },
 "nbformat": 4,
 "nbformat_minor": 2
}
